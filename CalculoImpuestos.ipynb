import pandas as pd
import ipywidgets as widgets
from IPython.display import display, clear_output

# Datos iniciales
df_ciudadanos = pd.DataFrame(columns=["ID","Ingresos","Propiedad","Vehículo","Negocio"])
contador = 1

# Widgets del dashboard
output_dashboard = widgets.Output()
btn_exportar = widgets.Button(description="Exportar CSV", button_style='success')

# Sliders para porcentajes
slider_prop = widgets.FloatSlider(description="Propiedad (%)", value=1.2, min=0, max=5, step=0.1)
slider_circ = widgets.FloatSlider(description="Circulación (%)", value=0.8, min=0, max=5, step=0.1)
slider_act = widgets.FloatSlider(description="Actividad (%)", value=1.5, min=0, max=5, step=0.1)
slider_gen = widgets.FloatSlider(description="General (%)", value=2.0, min=0, max=5, step=0.1)

# Funciones
def calcular_impuestos(df, pct_prop, pct_circ, pct_act, pct_gen):
    df = df.copy()
    df["Impuesto Propiedad"] = df["Ingresos"]*pct_prop*df["Propiedad"]
    df["Impuesto Circulación"] = df["Ingresos"]*pct_circ*df["Vehículo"]
    df["Impuesto Actividad"] = df["Ingresos"]*pct_act*df["Negocio"]
    df["Impuesto General"] = df["Ingresos"]*pct_gen
    df["Total"] = df[["Impuesto Propiedad","Impuesto Circulación","Impuesto Actividad","Impuesto General"]].sum(axis=1)
    return df

def actualizar_dashboard(df, pct_prop, pct_circ, pct_act, pct_gen):
    with output_dashboard:
        clear_output(wait=True)
        if df.empty:
            print("No hay ciudadanos agregados.")
            return
        
        df_calc = calcular_impuestos(df, pct_prop/100, pct_circ/100, pct_act/100, pct_gen/100)
        
        # Resumen final
        total_ingresos = df_calc["Ingresos"].sum()
        total_impuestos = df_calc["Total"].sum()
        promedio_impuestos = df_calc["Total"].mean()
        ratio = total_impuestos/total_ingresos if total_ingresos>0 else 0
        if ratio < 0.05:
            mensaje = "Impuestos bajos 🟢"
        elif ratio < 0.10:
            mensaje = "Impuestos medios 🟡"
        else:
            mensaje = "Impuestos altos 🔴"
        
        print("===== RESUMEN FINAL =====")
        print(f"Total ciudadanos: {len(df_calc)}")
        print(f"Total ingresos: ${total_ingresos:.2f}")
        print(f"Total impuestos: ${total_impuestos:.2f}")
        print(f"Promedio impuesto por ciudadano: ${promedio_impuestos:.2f}")
        print(f"Semáforo de impuestos: {mensaje}")
        
        top = df_calc.sort_values("Total", ascending=False).iloc[0]
        print(f"Ciudadano que más paga: ID {int(top['ID'])} - Total: ${top['Total']:.2f}")

def agregar_ciudadano(ingresos_val, prop_val, veh_val, neg_val):
    global contador, df_ciudadanos

    #DataFrame nuevo con columnas exactas para evitar warnings
    nuevo = pd.DataFrame([{
        "ID": contador,
        "Ingresos": ingresos_val,
        "Propiedad": prop_val,
        "Vehículo": veh_val,
        "Negocio": neg_val
    }], columns=df_ciudadanos.columns)
    
    df_ciudadanos = pd.concat([df_ciudadanos, nuevo], ignore_index=True)
    contador += 1
    actualizar_dashboard(df_ciudadanos, slider_prop.value, slider_circ.value, slider_act.value, slider_gen.value)

def exportar_csv(b):
    df_calc = calcular_impuestos(df_ciudadanos, slider_prop.value/100, slider_circ.value/100, slider_act.value/100, slider_gen.value/100)
    df_calc.to_csv("ciudadanos_impuestos_resumen.csv", index=False)
    print("Archivo exportado: ciudadanos_impuestos_resumen.csv")

btn_exportar.on_click(exportar_csv)

#  Formulario separado
ingreso_input = widgets.FloatText(description="Ingresos:", step=1000)
prop_check = widgets.Checkbox(description="Propiedad")
veh_check = widgets.Checkbox(description="Vehículo")
neg_check = widgets.Checkbox(description="Negocio")
btn_agregar = widgets.Button(description="Agregar", button_style='success')

def agregar_boton(b):
    if ingreso_input.value < 0:
        print("Ingresos no pueden ser negativos")
        return
    agregar_ciudadano(ingreso_input.value, prop_check.value, veh_check.value, neg_check.value)
    ingreso_input.value = 0
    prop_check.value = False
    veh_check.value = False
    neg_check.value = False

btn_agregar.on_click(agregar_boton)

# Mostrar interfaz
display(ingreso_input, prop_check, veh_check, neg_check, btn_agregar)
display(slider_prop, slider_circ, slider_act, slider_gen)
display(btn_exportar)
display(output_dashboard)
