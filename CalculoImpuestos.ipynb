import ipywidgets as widgets
from IPython.display import display

ingresos = widgets.FloatText(description="Ingresos:")
propiedad = widgets.Checkbox(description="Tiene propiedad")
vehiculo = widgets.Checkbox(description="Posee vehículo")
negocio = widgets.Checkbox(description="Tiene negocio")
btn_calcular = widgets.Button(description="Calcular impuestos")
output = widgets.Output()

def calcular(b):
    output.clear_output()
    situaciones = {
        "Impuesto sobre Propiedad": (0.012, propiedad.value),
        "Impuesto de Circulación": (0.008, vehiculo.value),
        "Impuesto de Actividad Comercial": (0.015, negocio.value),
        "Impuesto General": (0.02, True)
    }
    total = 0
    with output:
        for tipo, (porcentaje, cond) in situaciones.items():
            monto = porcentaje * ingresos.value if cond else 0
            print(f"{tipo}: ${monto:.2f}")
            total += monto
        print(f"Total a pagar: ${total:.2f}")

btn_calcular.on_click(calcular)
display(ingresos, propiedad, vehiculo, negocio, btn_calcular, output)