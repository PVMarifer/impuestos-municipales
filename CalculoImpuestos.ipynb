### Cálculo de impuestos municipales

import numpy as np

#1. El programa debe solicitar la cantidad de ciudadanos a procesar.
def calcular_impuestos():
    cantidad_ciudadanos = int(input("Ingrese la cantidad de ciudadanos a procesar: "))

#2. Para cada ciudadano, se solicitará el monto de sus ingresos anuales.
    for i in range(1, cantidad_ciudadanos + 1):
        print(f"\n--- Ciudadano #{i} ---")
        ingresos = float(input("Ingrese el monto de sus ingresos anuales: "))

#3. Se aplicarán los siguientes impuestos:
#Uso la función lower para evitar problemas si el usuario pone mayúsculas. Esto convierte en booleando la respuesta por un true o false y en base a esto, se calcula
        tiene_propiedad = input("¿Tiene una propiedad registrada? (s/n): ").lower() == 's'
        tiene_vehiculo = input("¿Posee un vehículo? (s/n): ").lower() == 's'
        tiene_negocio = input("¿Tiene un negocio registrado? (s/n): ").lower() == 's'

# El programa debe calcular y mostrar el total de impuestos a pagar por cada ciudadano
        impuesto_propiedad = 0.012 * ingresos if tiene_propiedad else 0
        impuesto_circulacion = 0.008 * ingresos if tiene_vehiculo else 0
        impuesto_actividad_comercial = 0.015 * ingresos if tiene_negocio else 0
        impuesto_general = 0.02 * ingresos

        total_impuestos = (impuesto_propiedad +
                           impuesto_circulacion +
                           impuesto_actividad_comercial +
                           impuesto_general)

        # Mostrar resultados
        print(f"\nImpuestos a pagar por el ciudadano #{i}:")
        print(f"  Impuesto sobre Propiedad: ${impuesto_propiedad:.2f}")
        print(f"  Impuesto de Circulación: ${impuesto_circulacion:.2f}")
        print(f"  Impuesto de Actividad Comercial: ${impuesto_actividad_comercial:.2f}")
        print(f"  Impuesto General: ${impuesto_general:.2f}")
        print(f"  TOTAL a pagar: ${total_impuestos:.2f}")

calcular_impuestos()


