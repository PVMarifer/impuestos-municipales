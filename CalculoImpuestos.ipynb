def solicitar_si_no(mensaje):
    while True:
        respuesta = input(mensaje + " (s/n): ").strip().lower()
        if respuesta in ['s', 'n']:
            return respuesta == 's'
        print("Por favor ingrese 's' o 'n'.")

def calcular_impuestos_ciudadano(ingresos, situaciones):
    impuestos = {}
    total = 0

    # Recorremos cada impuesto definido en situaciones
    for impuesto, info in situaciones.items():
        porcentaje, condicion = info
        monto = porcentaje * ingresos if condicion else 0
        impuestos[impuesto] = monto
        total += monto

    impuestos["Total"] = total
    return impuestos

def calcular_impuestos():
    while True:
        try:
            cantidad = int(input("Ingrese la cantidad de ciudadanos a procesar: "))
            if cantidad > 0:
                break
            print("Debe ser un número positivo.")
        except ValueError:
            print("Ingrese un número válido.")

    for i in range(1, cantidad + 1):
        print(f"\n--- Ciudadano #{i} ---")
        while True:
            try:
                ingresos = float(input("Ingrese el monto de sus ingresos anuales: "))
                if ingresos >= 0:
                    break
                print("Los ingresos no pueden ser negativos.")
            except ValueError:
                print("Ingrese un número válido.")

        # Definimos los impuestos y sus condiciones
        situaciones = {
            "Impuesto sobre Propiedad": (0.012, solicitar_si_no("¿Tiene una propiedad registrada?")),
            "Impuesto de Circulación": (0.008, solicitar_si_no("¿Posee un vehículo?")),
            "Impuesto de Actividad Comercial": (0.015, solicitar_si_no("¿Tiene un negocio registrado?")),
            "Impuesto General": (0.02, True)  # siempre se aplica
        }

        impuestos = calcular_impuestos_ciudadano(ingresos, situaciones)

        # Mostrar resultados
        print(f"\nImpuestos a pagar por el ciudadano #{i}:")
        for tipo, monto in impuestos.items():
            print(f"  {tipo}: ${monto:.2f}")

# Ejecutar programa
calcular_impuestos()
